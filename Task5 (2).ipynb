{
 "cells": [
  {
   "cell_type": "markdown",
   "metadata": {
    "colab_type": "text",
    "id": "9RHioPUvpaX3"
   },
   "source": [
    "# **КРИТЕРІЙ ПІРСОНА ДЛЯ ПОРІВНЯННЯ ДЕКІЛЬКОЇ ГРУП ЗА РОЗПОДІЛЕННЯМ ОЗНАКИ**"
   ]
  },
  {
   "cell_type": "markdown",
   "metadata": {
    "colab_type": "text",
    "id": "gJvivgECtRy7"
   },
   "source": [
    "## *Теоретичні відомості*"
   ]
  },
  {
   "cell_type": "markdown",
   "metadata": {
    "colab_type": "text",
    "id": "l_CIvVzgqAA1"
   },
   "source": [
    "Критерій хі-квадрат для аналізу таблиць спряженості був розроблений і запропонований в 1900 році англійським математиком, статистиком, біологом і філософом, засновником математичної статистики і одним з основоположників біометрії Карлом Пірсоном (1857-1936).\n",
    "\n",
    "*Таблиці спряженості* - це візуальне (табличне) відображення залежності між двома __*якісними*__ ознаками. \n",
    "Інтрерпретувати цей зв'язок можна як взаємозвя'зок між розподілом за однією ознакою в залежності від градації іншої ознаки. Прикладом може бути залежність частоти летальності в групах, що приймали різні лікувальні препарати (залежність летальності від схеми лікування), або залежність кількості осіб, що займаються різними видами спорту та частоти травматичних випадків (оцінка травматичності зайнять різними видами спорту).\n",
    "\n",
    "Рядки таблиці спряженості відповідають значенням однієї змінної, стовпці - значенням іншої змінної. *Для побудови таблиць спряженості кількісні шкали попередньо повинні бути згруповані в інтервали.* Область визначення випадковоъ величини розбивають на $k$ інтервалів, що не перетинаються:\n",
    "\n",
    "$$x_{0}<x_{1}<...<x_{k-1}<x_{k},$$\n",
    "\n",
    "де x_{0} - нижня границя області визначення випадкової величини, x_{k} - верхня границя.\n",
    "\n",
    "На перетині рядка і стовпця вказується частота спільної появи відповідних значень двох ознак.\n",
    "Сума частот по рядку називається маргінальною частотою рядка; сума частот по стовпцю - маргінальною частотою стовпчика.\n",
    "У таблиці спряженості можуть бути представлені як абсолютні, так і відносні частоти (в частках або відсотках). Відносні частоти можуть розраховуватися по відношенню:\n",
    "а) до маргінальної частоти по рядку;\n",
    "б) до маргінальної частоти по стовпцю;\n",
    "в) до обсягу вибірки."
   ]
  },
  {
   "cell_type": "markdown",
   "metadata": {
    "colab_type": "text",
    "id": "EVMo4PIltX48"
   },
   "source": [
    "Статистична гіпотеза для даного критерію має наступний вигляд:\n",
    "*   Основна (нульова). Ознаки не пов'язані.\n",
    "*   Конкуруюча (альтернативна). Ознаки пов'язані."
   ]
  },
  {
   "cell_type": "markdown",
   "metadata": {
    "colab_type": "text",
    "id": "LSU7rmy8yIAB"
   },
   "source": [
    "## Алгоритм розрахунку"
   ]
  },
  {
   "cell_type": "markdown",
   "metadata": {
    "colab_type": "text",
    "id": "V-cBzKp5tkos"
   },
   "source": [
    "В класичному випадку, критерій Пірсона поріявнює розподіл ознаки між двома групами. Алгоритм роботи:\n",
    "\n",
    "\n",
    "*   *Сформувати таблицю спряженості*, де стовбчики - це порювнювані групи, а рядки - градації ознаки, що досліджується.\n",
    "\n",
    "Ознака  | Група 1 | Група 2  |\n",
    "------------- | ------------- |--------- |\n",
    "Градація ознаки 1  | $n_{11}$   | $n_{21}$   |\n",
    "Градація ознаки 2  | $n_{12}$   | $n_{22}$   |\n",
    "Градація ознаки 3  | $n_{13}$   | $n_{23}$   |\n",
    "\n",
    "  $n_{11}$ - частота з якою градація 1 зустрічається в 1й групі\n",
    "\n",
    "$n_{12}$ - частота з якоюградація 2 зустрічається в 1й групі\n",
    "\n",
    "$n_{13}$ - частота з якоюградація 3 зустрічається в 1й групі\n",
    "\n",
    "$n_{21}$ - частота з якоюградація 1 зустрічається в 2й групі\n",
    "\n",
    "$n_{22}$ - частота з якоюградація 2 зустрічається в 2й групі\n",
    "\n",
    "$n_{23}$ - частота з якоюградація 3 зустрічається в 2й групі\n",
    "\n",
    "Вважаємо, що перша група експериментальна, а друга - теоретична.\n",
    "\n",
    "*   Перевірити рівність сум частот $\\sum n_{i}=\\sum \\grave{n}_{i}$. Якщо суми відрізняються, вирівняти їх зі збереженням відсоткового співвідношення між частотами всередині групи.\n",
    "\n",
    "* Розрахувати різницю між експериметальними (емпричними) та контрольним (теоретичними) частотами для кожної градації:\n",
    "\n",
    "Ознака  | Група 1 | Група 2  | $(n_{i}-\\grave{n}_{i})^2$  |\n",
    "------------- | ------------- |--------- |-------------- |\n",
    "Градація ознаки 1  | $n_{11}$   | $n_{21}$   |$(n_{11}-\\grave{n}_{21})^2$  |\n",
    "Градація ознаки 2  | $n_{12}$   | $n_{22}$   |$(n_{12}-\\grave{n}_{22})^2$  |\n",
    "Градація ознаки 3  | $n_{13}$   | $n_{23}$   |$(n_{13}-\\grave{n}_{23})^2$  |\n",
    "\n",
    "* Розділити отримані квадрати на теоретичні частити (дані контрольної групи):\n",
    "\n",
    "Ознака  | Група 1 | Група 2  | $(n_{i}-\\grave{n}_{i})^2$  | $\\frac{(n_{i}-\\grave{n}_{i})^2}{\\grave{n}_{i}}$  |\n",
    "------------- | ------------- |--------- |-------------- |-------------- |\n",
    "Градація ознаки 1  | $n_{11}$   | $n_{21}$   |$(n_{11}-\\grave{n}_{21})^2$  |$\\frac{(n_{11}-\\grave{n}_{21})^2}{\\grave{n}_{21}}$  |\n",
    "Градація ознаки 2  | $n_{12}$   | $n_{22}$   |$(n_{12}-\\grave{n}_{22})^2$  |$\\frac{(n_{12}-\\grave{n}_{22})^2}{\\grave{n}_{22}}$  |\n",
    "Градація ознаки 3  | $n_{13}$   | $n_{23}$   |$(n_{13}-\\grave{n}_{23})^2$  |$\\frac{(n_{13}-\\grave{n}_{23})^2}{\\grave{n}_{23}}^2$  |\n",
    "\n",
    "\n",
    "* Знайти сумму отриманих значень, позначивши її як $\\chi_{emp}^2$.\n",
    "\n",
    "* Визначити ступінь свободи критерію:\n",
    "\n",
    "$$r=m-1,$$\n",
    "\n",
    "де m - кількість градацій ознаки (рядків в таблиці спряженості).\n",
    "\n",
    "* Визначити за таблицею критичне значення для відповідного рівня значимості $\\alpha$ та розрахованого числа ступенів свободи.\n",
    "\n",
    "* Якщо $\\chi_{emp}^2 > \\chi_{critical}^2$, то розбіжності між розподіленнями статистично значимі на даному рівні значимості.\n"
   ]
  },
  {
   "cell_type": "markdown",
   "metadata": {
    "colab_type": "text",
    "id": "IdynD2W28NS9"
   },
   "source": [
    "## Таблиця критичних значень"
   ]
  },
  {
   "cell_type": "markdown",
   "metadata": {
    "colab_type": "text",
    "id": "6jyV7r8d8RyR"
   },
   "source": [
    "Завантажити таблицю критичних значень можна за посиланням: \n",
    "\n",
    "https://drive.google.com/open?id=1-525zNUUxYAbY3FStFy79B9O3UMkcuan"
   ]
  },
  {
   "cell_type": "markdown",
   "metadata": {
    "colab_type": "text",
    "id": "iZobJ1GO8_TY"
   },
   "source": [
    "## Завдання"
   ]
  },
  {
   "cell_type": "markdown",
   "metadata": {
    "colab_type": "text",
    "id": "BiWG1gAq9C5S"
   },
   "source": [
    "1. Обрати реальні дані з kaggle або сгенерувати випадкові дані, що містять розподіл деякої ознаки в двох групах.\n",
    "2. Побудувати графік, що відображає розподіл ознак в групах.\n",
    "3. Написати функції, що оцінює зв'язок між ознакою та групою за критерієм Пірсона. Функція має оцінювати розбіжність на двох рівнях - 0,001 та 0,05, в залежністі від параметру significant_level, що передається в неї.\n",
    "Врахувати у функції випадок, що сума частот ознаки у групах може бути відмінною.\n",
    "4. Перевірити розбіжність на між групами на даних з п. 1. В результаті сформувати таблицю спряженості наступного вигляду:\n",
    "\n",
    "Ознака  | Група 1 | Група 2  | \n",
    "------------- | ------------- |--------- |\n",
    "Градація ознаки 1  | $n_{11}  $   | $n_{21}$   |\n",
    "Градація ознаки 2  | $n_{12}$   | $n_{22}$   |\n",
    "Градація ознаки 3  | $n_{13}$   | $n_{23}$   |\n",
    "\n",
    "Додати до таблиці стовбчики з відсотовим розподілом по градаціям всередині груп.\n",
    "Окремо вивести результати роботи критерію (чи є статистична розбіжність між групами)."
   ]
  },
  {
   "cell_type": "code",
   "execution_count": 168,
   "metadata": {
    "colab": {},
    "colab_type": "code",
    "id": "zyXdWWXf_Tm8"
   },
   "outputs": [],
   "source": [
    "import pandas as pd\n",
    "import numpy as np\n",
    "import matplotlib.pyplot as plt\n",
    "%matplotlib inline\n",
    "import seaborn as sns\n",
    "import scipy.stats as sts\n",
    "\n",
    "sign=[0,1,2,3,4,5]\n",
    "exp=[67, 84, 66, 287, 384, 162] \n",
    "teor=[61, 86, 60, 278, 368, 154] \n",
    "\n",
    "\n",
    "df=pd.DataFrame()\n",
    "df['sign']=sign\n",
    "df['exp']=exp\n",
    "df['teor']=teor"
   ]
  },
  {
   "cell_type": "code",
   "execution_count": 169,
   "metadata": {
    "colab": {},
    "colab_type": "code",
    "id": "zyXdWWXf_Tm8"
   },
   "outputs": [
    {
     "data": {
      "text/html": [
       "<div>\n",
       "<style scoped>\n",
       "    .dataframe tbody tr th:only-of-type {\n",
       "        vertical-align: middle;\n",
       "    }\n",
       "\n",
       "    .dataframe tbody tr th {\n",
       "        vertical-align: top;\n",
       "    }\n",
       "\n",
       "    .dataframe thead th {\n",
       "        text-align: right;\n",
       "    }\n",
       "</style>\n",
       "<table border=\"1\" class=\"dataframe\">\n",
       "  <thead>\n",
       "    <tr style=\"text-align: right;\">\n",
       "      <th></th>\n",
       "      <th>sign</th>\n",
       "      <th>exp</th>\n",
       "      <th>teor</th>\n",
       "    </tr>\n",
       "  </thead>\n",
       "  <tbody>\n",
       "    <tr>\n",
       "      <th>0</th>\n",
       "      <td>0</td>\n",
       "      <td>67</td>\n",
       "      <td>61</td>\n",
       "    </tr>\n",
       "    <tr>\n",
       "      <th>1</th>\n",
       "      <td>1</td>\n",
       "      <td>84</td>\n",
       "      <td>86</td>\n",
       "    </tr>\n",
       "    <tr>\n",
       "      <th>2</th>\n",
       "      <td>2</td>\n",
       "      <td>66</td>\n",
       "      <td>60</td>\n",
       "    </tr>\n",
       "    <tr>\n",
       "      <th>3</th>\n",
       "      <td>3</td>\n",
       "      <td>287</td>\n",
       "      <td>278</td>\n",
       "    </tr>\n",
       "    <tr>\n",
       "      <th>4</th>\n",
       "      <td>4</td>\n",
       "      <td>384</td>\n",
       "      <td>368</td>\n",
       "    </tr>\n",
       "    <tr>\n",
       "      <th>5</th>\n",
       "      <td>5</td>\n",
       "      <td>162</td>\n",
       "      <td>154</td>\n",
       "    </tr>\n",
       "  </tbody>\n",
       "</table>\n",
       "</div>"
      ],
      "text/plain": [
       "   sign  exp  teor\n",
       "0     0   67    61\n",
       "1     1   84    86\n",
       "2     2   66    60\n",
       "3     3  287   278\n",
       "4     4  384   368\n",
       "5     5  162   154"
      ]
     },
     "execution_count": 169,
     "metadata": {},
     "output_type": "execute_result"
    }
   ],
   "source": [
    "df"
   ]
  },
  {
   "cell_type": "code",
   "execution_count": 170,
   "metadata": {},
   "outputs": [
    {
     "data": {
      "image/png": "[encoded data removed]",
      "text/plain": [
       "<Figure size 432x288 with 1 Axes>"
      ]
     },
     "metadata": {
      "needs_background": "light"
     },
     "output_type": "display_data"
    }
   ],
   "source": [
    "snsplot=sns.kdeplot(df['teor'])\n",
    "fig=snsplot.get_figure()\n",
    "\n",
    "snsplot=sns.kdeplot(df['exp'])\n",
    "fig=snsplot.get_figure()"
   ]
  },
  {
   "cell_type": "code",
   "execution_count": 171,
   "metadata": {},
   "outputs": [
    {
     "data": {
      "text/html": [
       "<div>\n",
       "<style scoped>\n",
       "    .dataframe tbody tr th:only-of-type {\n",
       "        vertical-align: middle;\n",
       "    }\n",
       "\n",
       "    .dataframe tbody tr th {\n",
       "        vertical-align: top;\n",
       "    }\n",
       "\n",
       "    .dataframe thead th {\n",
       "        text-align: right;\n",
       "    }\n",
       "</style>\n",
       "<table border=\"1\" class=\"dataframe\">\n",
       "  <thead>\n",
       "    <tr style=\"text-align: right;\">\n",
       "      <th></th>\n",
       "      <th>Unnamed: 0</th>\n",
       "      <th>Рівень значимості</th>\n",
       "      <th>Unnamed: 2</th>\n",
       "    </tr>\n",
       "  </thead>\n",
       "  <tbody>\n",
       "    <tr>\n",
       "      <th>0</th>\n",
       "      <td>Число ступенів свободи</td>\n",
       "      <td>0.01</td>\n",
       "      <td>0.05</td>\n",
       "    </tr>\n",
       "    <tr>\n",
       "      <th>1</th>\n",
       "      <td>1</td>\n",
       "      <td>6.60</td>\n",
       "      <td>3.8</td>\n",
       "    </tr>\n",
       "    <tr>\n",
       "      <th>2</th>\n",
       "      <td>2</td>\n",
       "      <td>9.20</td>\n",
       "      <td>6</td>\n",
       "    </tr>\n",
       "    <tr>\n",
       "      <th>3</th>\n",
       "      <td>3</td>\n",
       "      <td>11.30</td>\n",
       "      <td>7.8</td>\n",
       "    </tr>\n",
       "    <tr>\n",
       "      <th>4</th>\n",
       "      <td>4</td>\n",
       "      <td>13.30</td>\n",
       "      <td>9.5</td>\n",
       "    </tr>\n",
       "  </tbody>\n",
       "</table>\n",
       "</div>"
      ],
      "text/plain": [
       "               Unnamed: 0  Рівень значимості Unnamed: 2\n",
       "0  Число ступенів свободи               0.01       0.05\n",
       "1                       1               6.60        3.8\n",
       "2                       2               9.20          6\n",
       "3                       3              11.30        7.8\n",
       "4                       4              13.30        9.5"
      ]
     },
     "execution_count": 171,
     "metadata": {},
     "output_type": "execute_result"
    }
   ],
   "source": [
    "xl=pd.read_excel(r'C:\\Git\\BMD\\laba №5\\Source\\table.xlsx', sheet_name='Лист1')\n",
    "xl.head()"
   ]
  },
  {
   "cell_type": "code",
   "execution_count": 172,
   "metadata": {},
   "outputs": [
    {
     "name": "stdout",
     "output_type": "stream",
     "text": [
      "[64, 90, 63, 290, 384, 161]\n"
     ]
    }
   ],
   "source": [
    "sumt=0\n",
    "sume=0\n",
    "percent=[0]*6\n",
    "newteor=[0]*6\n",
    "    \n",
    "for i in range(6):\n",
    "    sume+=exp[i]\n",
    "for i in range(6):\n",
    "    sumt+=teor[i]\n",
    "        \n",
    "if sumt!=sume:\n",
    "    for i in range(6):\n",
    "        percent[i]=(teor[i]/sumt)*100\n",
    "        newteor[i]=round((sume/100)*percent[i])\n",
    "\n",
    "print(newteor)\n",
    "new_df=pd.DataFrame()\n",
    "new_df['exp']=exp\n",
    "new_df['new_teor']=newteor"
   ]
  },
  {
   "cell_type": "code",
   "execution_count": 173,
   "metadata": {},
   "outputs": [
    {
     "data": {
      "text/html": [
       "<div>\n",
       "<style scoped>\n",
       "    .dataframe tbody tr th:only-of-type {\n",
       "        vertical-align: middle;\n",
       "    }\n",
       "\n",
       "    .dataframe tbody tr th {\n",
       "        vertical-align: top;\n",
       "    }\n",
       "\n",
       "    .dataframe thead th {\n",
       "        text-align: right;\n",
       "    }\n",
       "</style>\n",
       "<table border=\"1\" class=\"dataframe\">\n",
       "  <thead>\n",
       "    <tr style=\"text-align: right;\">\n",
       "      <th></th>\n",
       "      <th>exp</th>\n",
       "      <th>new_teor</th>\n",
       "    </tr>\n",
       "  </thead>\n",
       "  <tbody>\n",
       "    <tr>\n",
       "      <th>0</th>\n",
       "      <td>67</td>\n",
       "      <td>64</td>\n",
       "    </tr>\n",
       "    <tr>\n",
       "      <th>1</th>\n",
       "      <td>84</td>\n",
       "      <td>90</td>\n",
       "    </tr>\n",
       "    <tr>\n",
       "      <th>2</th>\n",
       "      <td>66</td>\n",
       "      <td>63</td>\n",
       "    </tr>\n",
       "    <tr>\n",
       "      <th>3</th>\n",
       "      <td>287</td>\n",
       "      <td>290</td>\n",
       "    </tr>\n",
       "    <tr>\n",
       "      <th>4</th>\n",
       "      <td>384</td>\n",
       "      <td>384</td>\n",
       "    </tr>\n",
       "    <tr>\n",
       "      <th>5</th>\n",
       "      <td>162</td>\n",
       "      <td>161</td>\n",
       "    </tr>\n",
       "  </tbody>\n",
       "</table>\n",
       "</div>"
      ],
      "text/plain": [
       "   exp  new_teor\n",
       "0   67        64\n",
       "1   84        90\n",
       "2   66        63\n",
       "3  287       290\n",
       "4  384       384\n",
       "5  162       161"
      ]
     },
     "execution_count": 173,
     "metadata": {},
     "output_type": "execute_result"
    }
   ],
   "source": [
    "new_df"
   ]
  },
  {
   "cell_type": "code",
   "execution_count": 174,
   "metadata": {},
   "outputs": [],
   "source": [
    "def pirson(e,t, sig_level):\n",
    "    \n",
    "    xi2=0\n",
    "    r=5\n",
    "    \n",
    "    dif=[0]*6\n",
    "    difn=[0]*6\n",
    "    \n",
    "    sumt=0\n",
    "    sume=0\n",
    "    percent=[0]*6\n",
    "    newteor=[0]*6\n",
    "    \n",
    "    for i in range(6):\n",
    "        sume+=e[i]\n",
    "    for i in range(6):\n",
    "        sumt+=t[i]\n",
    "        \n",
    "    if sumt!=sume:\n",
    "        for i in range(6):\n",
    "            percent[i]=(t[i]/sumt)*100\n",
    "            newteor[i]=round((sume/100)*percent[i])\n",
    "        \n",
    "        for i in range(6):\n",
    "            dif[i]=(e[i]-newteor[i])**2\n",
    "        \n",
    "        for i in range(6):\n",
    "            difn[i]=dif[i]/newteor[i]\n",
    "        \n",
    "        for i in range(6):\n",
    "            xi2+=difn[i]\n",
    "        \n",
    "        \n",
    "    else:\n",
    "        for i in range(0, 6):\n",
    "            dif[i]=(e[i]-t[i])**2\n",
    "        \n",
    "        for i in range(6):\n",
    "            difn[i]=dif[i]/t[i]\n",
    "        \n",
    "        for i in range(6):\n",
    "            xi2+=difn[i]\n",
    "            \n",
    "   \n",
    "    \n",
    "    if sig_level==0.01:\n",
    "        lvl=15.1\n",
    "        if xi2>lvl:\n",
    "            print('розбіжності між розподіленнями статистично значимі на даному рівні значимості.')\n",
    "        else:\n",
    "            print('розбіжності між розподіленнями статистично не значимі на даному рівні значимості.')\n",
    "            \n",
    "     \n",
    "    if sig_level==0.05:\n",
    "        lvl=11.1\n",
    "        if xi2>lvl:\n",
    "            print('розбіжності між розподіленнями статистично значимі на даному рівні значимості.')\n",
    "        else:\n",
    "            print('розбіжності між розподіленнями статистично не значимі на даному рівні значимості.')\n",
    "    \n",
    "    print(xi2)\n",
    "    "
   ]
  },
  {
   "cell_type": "code",
   "execution_count": 156,
   "metadata": {},
   "outputs": [
    {
     "name": "stdout",
     "output_type": "stream",
     "text": [
      "[66, 67, 84, 108, 287, 388]\n",
      "[61, 66, 82, 109, 280, 390]\n",
      "розбіжності між розподіленнями статистично не значимі на даному рівні значимості.\n",
      "0.4870640806486436\n"
     ]
    }
   ],
   "source": [
    "pirson(exp,teor, 0.05)"
   ]
  },
  {
   "cell_type": "code",
   "execution_count": 167,
   "metadata": {},
   "outputs": [
    {
     "data": {
      "text/plain": [
       "(0.23998664444441414,\n",
       " 0.9986220419617836,\n",
       " 5,\n",
       " array([[ 64. ,  64. ],\n",
       "        [ 67. ,  67. ],\n",
       "        [ 83.5,  83.5],\n",
       "        [109. , 109. ],\n",
       "        [285. , 285. ],\n",
       "        [391.5, 391.5]]))"
      ]
     },
     "execution_count": 167,
     "metadata": {},
     "output_type": "execute_result"
    }
   ],
   "source": [
    "from scipy import stats\n",
    "from scipy.stats import chi2\n",
    "stats.chi2_contingency(new_df)\n",
    "#chi2_stat=stats.chi2_contingency(df)\n"
   ]
  },
  {
   "cell_type": "code",
   "execution_count": null,
   "metadata": {},
   "outputs": [],
   "source": []
  }
 ],
 "metadata": {
  "colab": {
   "authorship_tag": "ABX9TyMj+zsbRRXcFPRiMT239GjJ",
   "collapsed_sections": [],
   "name": "Task5.ipynb",
   "provenance": []
  },
  "kernelspec": {
   "display_name": "Python 3",
   "language": "python",
   "name": "python3"
  },
  "language_info": {
   "codemirror_mode": {
    "name": "ipython",
    "version": 3
   },
   "file_extension": ".py",
   "mimetype": "text/x-python",
   "name": "python",
   "nbconvert_exporter": "python",
   "pygments_lexer": "ipython3",
   "version": "3.7.6"
  }
 },
 "nbformat": 4,
 "nbformat_minor": 1
}
